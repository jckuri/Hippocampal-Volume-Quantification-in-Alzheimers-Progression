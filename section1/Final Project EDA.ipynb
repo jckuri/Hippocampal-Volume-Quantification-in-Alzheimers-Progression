{
 "cells": [
  {
   "cell_type": "markdown",
   "metadata": {},
   "source": [
    "# Preparing the dataset for hippocampus segmentation\n",
    "\n",
    "In this notebook you will use the skills and methods that we have talked about during our EDA Lesson to prepare the hippocampus dataset using Python. Follow the Notebook, writing snippets of code where directed so using Task comments, similar to the one below, which expects you to put the proper imports in place. Write your code directly in the cell with TASK comment. Feel free to add cells as you see fit, but please make sure that code that performs that tasked activity sits in the same cell as the Task comment.\n"
   ]
  },
  {
   "cell_type": "code",
   "execution_count": 1,
   "metadata": {},
   "outputs": [],
   "source": [
    "# TASK: Import the following libraries that we will use: nibabel, matplotlib, numpy\n",
    "\n",
    "import nibabel as nib\n",
    "import matplotlib.pyplot as plt\n",
    "import numpy as np\n",
    "import glob"
   ]
  },
  {
   "cell_type": "markdown",
   "metadata": {},
   "source": [
    "It will help your understanding of the data a lot if you were able to use a tool that allows you to view NIFTI volumes, like [3D Slicer](https://www.slicer.org/). I will refer to Slicer throughout this Notebook and will be pasting some images showing what your output might look like."
   ]
  },
  {
   "cell_type": "markdown",
   "metadata": {},
   "source": [
    "## Loading NIFTI images using NiBabel\n",
    "\n",
    "NiBabel is a python library for working with neuro-imaging formats (including NIFTI) that we have used in some of the exercises throughout the course. Our volumes and labels are in NIFTI format, so we will use nibabel to load and inspect them.\n",
    "\n",
    "NiBabel documentation could be found here: https://nipy.org/nibabel/\n",
    "\n",
    "Our dataset sits in two directories - *images* and *labels*. Each image is represented by a single file (we are fortunate to have our data converted to NIFTI) and has a corresponding label file which is named the same as the image file.\n",
    "\n",
    "Note that our dataset is \"dirty\". There are a few images and labels that are not quite right. They should be quite obvious to notice, though. The dataset contains an equal amount of \"correct\" volumes and corresponding labels, and you don't need to alter values of any samples in order to get the clean dataset."
   ]
  },
  {
   "cell_type": "code",
   "execution_count": 2,
   "metadata": {},
   "outputs": [
    {
     "name": "stdout",
     "output_type": "stream",
     "text": [
      "Number of images: 263\n",
      "Number of labels: 262\n",
      "Number of valid samples: 262\n"
     ]
    }
   ],
   "source": [
    "# TASK: Your data sits in directory /data/TrainingSet.\n",
    "# Load an image and a segmentation mask into variables called image and label\n",
    "\n",
    "# print('/data/TrainingSet')\n",
    "# !ls /data/TrainingSet\n",
    "# print('/data/TrainingSet/images')\n",
    "# !ls /data/TrainingSet/images\n",
    "# print('/data/TrainingSet/labels')\n",
    "# !ls /data/TrainingSet/labels\n",
    "\n",
    "class Sample:\n",
    "    \n",
    "    def __init__(self):\n",
    "        pass\n",
    "    \n",
    "    def __str__(self):\n",
    "        return f'{self.image_file}, {self.label_file}'\n",
    "\n",
    "image_files = sorted(glob.glob(\"/data/TrainingSet/images/*.nii.gz\"))\n",
    "label_files = sorted(glob.glob(\"/data/TrainingSet/labels/*.nii.gz\"))\n",
    "samples = []\n",
    "for image_file in image_files:\n",
    "    image = image_file[image_file.rfind('/') + 1:]\n",
    "    for label_file in label_files:\n",
    "        label = label_file[label_file.rfind('/') + 1:]\n",
    "        if image == label:\n",
    "            sample = Sample()\n",
    "            sample.image_file = image_file\n",
    "            sample.label_file = label_file\n",
    "            samples.append(sample)\n",
    "\n",
    "print(f'Number of images: {len(image_files)}')\n",
    "print(f'Number of labels: {len(label_files)}')\n",
    "print(f'Number of valid samples: {len(samples)}')\n"
   ]
  },
  {
   "cell_type": "code",
   "execution_count": 3,
   "metadata": {},
   "outputs": [
    {
     "name": "stdout",
     "output_type": "stream",
     "text": [
      "/data/TrainingSet/images/hippocampus_010.nii.gz (512, 512, 241) and /data/TrainingSet/labels/hippocampus_010.nii.gz (36, 50, 31) don't have the same dimensions.\n",
      "/data/TrainingSet/images/hippocampus_281.nii.gz (512, 512, 31) and /data/TrainingSet/labels/hippocampus_281.nii.gz (512, 512, 94) don't have the same dimensions.\n",
      "\n",
      "Final number of valid samples: 260\n",
      "\n",
      "Dimensions: {(41, 47, 42), (35, 53, 36), (34, 45, 43), (34, 47, 40), (35, 54, 35), (36, 50, 33), (35, 51, 36), (32, 54, 34), (33, 47, 38), (35, 52, 37), (37, 57, 35), (37, 47, 34), (34, 50, 32), (38, 52, 35), (32, 53, 38), (38, 43, 41), (35, 53, 29), (35, 56, 34), (38, 53, 27), (36, 48, 38), (37, 45, 36), (36, 51, 34), (37, 56, 36), (38, 48, 40), (36, 40, 43), (33, 48, 38), (33, 49, 37), (37, 52, 32), (33, 53, 28), (36, 49, 36), (34, 53, 24), (35, 44, 44), (33, 50, 29), (35, 49, 40), (34, 50, 34), (37, 53, 33), (38, 48, 33), (36, 48, 40), (38, 50, 39), (33, 47, 42), (37, 52, 34), (38, 51, 31), (36, 47, 41), (36, 49, 38), (36, 52, 37), (35, 49, 33), (39, 45, 40), (35, 47, 45), (34, 53, 35), (34, 56, 31), (35, 53, 33), (36, 51, 29), (37, 43, 43), (37, 45, 40), (32, 52, 34), (33, 47, 35), (33, 49, 32), (38, 55, 31), (35, 52, 34), (37, 55, 26), (37, 50, 39), (35, 55, 33), (38, 55, 40), (36, 49, 31), (36, 54, 27), (34, 48, 32), (36, 49, 40), (34, 51, 37), (35, 46, 42), (35, 53, 35), (43, 42, 39), (37, 54, 36), (36, 50, 32), (34, 46, 34), (36, 51, 31), (38, 49, 36), (39, 44, 43), (33, 47, 37), (35, 50, 30), (34, 52, 38), (33, 51, 28), (39, 50, 40), (33, 51, 37), (36, 47, 36), (36, 52, 32), (35, 44, 41), (32, 51, 28), (38, 52, 34), (33, 59, 29), (34, 51, 30), (35, 48, 32), (36, 53, 33), (37, 48, 34), (39, 52, 31), (37, 51, 33), (31, 50, 36), (36, 48, 37), (36, 50, 34), (32, 49, 30), (38, 48, 39), (38, 49, 38), (33, 44, 40), (34, 52, 40), (35, 52, 38), (35, 51, 40), (41, 48, 47), (32, 48, 34), (34, 49, 35), (34, 51, 32), (37, 48, 36), (37, 51, 35), (36, 48, 39), (33, 52, 37), (38, 54, 30), (34, 46, 38), (36, 51, 35), (33, 44, 42), (35, 50, 34), (33, 51, 32), (39, 41, 42), (34, 49, 37), (35, 46, 39), (38, 51, 33), (36, 53, 37), (35, 49, 35), (35, 56, 28), (37, 49, 37), (34, 53, 37), (33, 55, 29), (36, 51, 37), (34, 47, 39), (33, 47, 34), (34, 52, 35), (40, 52, 35), (37, 52, 26), (35, 50, 36), (35, 52, 33), (35, 51, 35), (37, 50, 38), (33, 51, 34), (36, 58, 33), (33, 46, 38), (34, 49, 30), (33, 54, 39), (34, 48, 40), (34, 49, 39), (38, 51, 35), (35, 48, 38), (35, 49, 37), (37, 47, 42), (36, 57, 37), (33, 50, 35), (32, 49, 36), (37, 58, 35), (37, 50, 40), (38, 47, 37), (32, 45, 41), (36, 47, 44), (34, 49, 32), (35, 55, 37), (34, 49, 41), (34, 51, 38), (38, 51, 37), (35, 48, 40), (38, 52, 36), (34, 53, 32), (38, 49, 28), (35, 53, 30), (36, 51, 32), (32, 47, 32), (32, 47, 41), (35, 53, 39), (32, 49, 38), (34, 47, 43), (36, 50, 36), (36, 55, 32), (38, 50, 38), (37, 52, 30), (33, 53, 26), (36, 58, 28), (37, 45, 46), (36, 42, 41), (37, 50, 33), (34, 48, 35), (32, 46, 42), (34, 51, 31), (38, 52, 29), (36, 52, 36), (37, 49, 34), (35, 48, 42), (34, 53, 34), (33, 52, 27), (36, 45, 39), (35, 53, 32), (34, 47, 36), (33, 44, 41), (38, 53, 30), (36, 50, 38), (37, 45, 39), (35, 50, 33), (31, 54, 34), (36, 47, 39), (33, 49, 40), (35, 55, 32), (32, 51, 31), (37, 55, 34), (34, 49, 36), (35, 55, 41), (36, 46, 43), (35, 48, 35), (35, 47, 37), (34, 51, 33), (36, 52, 38), (37, 48, 37), (35, 46, 38), (35, 49, 34), (34, 53, 36), (35, 40, 40), (36, 44, 43), (42, 51, 28), (39, 52, 37), (36, 50, 31), (36, 50, 40), (35, 51, 34), (38, 50, 42), (33, 48, 34), (36, 49, 41), (34, 52, 37), (32, 45, 38), (34, 49, 29), (34, 51, 26), (35, 55, 34), (34, 49, 38), (37, 47, 32), (38, 52, 33), (35, 49, 36)}\n"
     ]
    }
   ],
   "source": [
    "# Nibabel can present your image data as a Numpy array by calling the method get_fdata()\n",
    "# The array will contain a multi-dimensional Numpy array with numerical values representing voxel intensities. \n",
    "# In our case, images and labels are 3-dimensional, so get_fdata will return a 3-dimensional array. You can verify this\n",
    "# by accessing the .shape attribute. What are the dimensions of the input arrays?\n",
    "\n",
    "valid_samples = []\n",
    "for sample in samples:\n",
    "    sample.image = nib.load(sample.image_file)\n",
    "    sample.label = nib.load(sample.label_file)\n",
    "    if sample.image.shape == sample.label.shape:\n",
    "        valid_samples.append(sample)\n",
    "    else:\n",
    "        print(f'{sample.image_file} {sample.image.shape} and {sample.label_file} {sample.label.shape} don\\'t have the same dimensions.')\n",
    "samples = valid_samples\n",
    "        \n",
    "print(f'\\nFinal number of valid samples: {len(samples)}')\n",
    "\n",
    "dimensions = set()\n",
    "for sample in samples:\n",
    "    keys = list(sample.image.file_map.keys())\n",
    "    if keys != ['image']:\n",
    "        print(keys)\n",
    "    dimensions.add(sample.image.shape)\n",
    "        \n",
    "print(f'\\nDimensions: {dimensions}')\n"
   ]
  },
  {
   "cell_type": "code",
   "execution_count": 4,
   "metadata": {},
   "outputs": [],
   "source": [
    "# TASK: using matplotlib, visualize a few slices from the dataset, along with their labels. \n",
    "# You can adjust plot sizes like so if you find them too small:\n",
    "# plt.rcParams[\"figure.figsize\"] = (10,10)\n",
    "\n",
    "def show_sample(images):\n",
    "    plt.rcParams[\"figure.figsize\"] = (10,10)\n",
    "    fig, ax = plt.subplots(nrows = 1, ncols = 2, figsize = (8, 8))\n",
    "    for i, axi in enumerate(ax.flat):\n",
    "        axi.imshow(images[i], cmap = 'bone')\n",
    "    plt.show()\n",
    "    \n",
    "def show_slice_of_sample(sample_index, slice):\n",
    "    print(f'sample_index = {sample_index}, slice = {slice}')\n",
    "    sample = samples[sample_index]\n",
    "    image = sample.image.get_fdata()\n",
    "    label = sample.label.get_fdata()\n",
    "    images = [image[:,:,slice], label[:,:,slice]]\n",
    "    show_sample(images)"
   ]
  },
  {
   "cell_type": "code",
   "execution_count": 5,
   "metadata": {},
   "outputs": [
    {
     "name": "stdout",
     "output_type": "stream",
     "text": [
      "sample_index = 0, slice = 10\n"
     ]
    },
    {
     "data": {
      "image/png": "[encoded data removed]",
      "text/plain": [
       "<Figure size 576x576 with 2 Axes>"
      ]
     },
     "metadata": {
      "needs_background": "light"
     },
     "output_type": "display_data"
    },
    {
     "name": "stdout",
     "output_type": "stream",
     "text": [
      "sample_index = 0, slice = 11\n"
     ]
    },
    {
     "data": {
      "image/png": "[encoded data removed]",
      "text/plain": [
       "<Figure size 576x576 with 2 Axes>"
      ]
     },
     "metadata": {
      "needs_background": "light"
     },
     "output_type": "display_data"
    },
    {
     "name": "stdout",
     "output_type": "stream",
     "text": [
      "sample_index = 1, slice = 20\n"
     ]
    },
    {
     "data": {
      "image/png": "[encoded data removed]",
      "text/plain": [
       "<Figure size 576x576 with 2 Axes>"
      ]
     },
     "metadata": {
      "needs_background": "light"
     },
     "output_type": "display_data"
    },
    {
     "name": "stdout",
     "output_type": "stream",
     "text": [
      "sample_index = 1, slice = 21\n"
     ]
    },
    {
     "data": {
      "image/png": "[encoded data removed]",
      "text/plain": [
       "<Figure size 576x576 with 2 Axes>"
      ]
     },
     "metadata": {
      "needs_background": "light"
     },
     "output_type": "display_data"
    },
    {
     "name": "stdout",
     "output_type": "stream",
     "text": [
      "sample_index = 2, slice = 30\n"
     ]
    },
    {
     "data": {
      "image/png": "[encoded data removed]",
      "text/plain": [
       "<Figure size 576x576 with 2 Axes>"
      ]
     },
     "metadata": {
      "needs_background": "light"
     },
     "output_type": "display_data"
    },
    {
     "name": "stdout",
     "output_type": "stream",
     "text": [
      "sample_index = 2, slice = 31\n"
     ]
    },
    {
     "data": {
      "image/png": "[encoded data removed]",
      "text/plain": [
       "<Figure size 576x576 with 2 Axes>"
      ]
     },
     "metadata": {
      "needs_background": "light"
     },
     "output_type": "display_data"
    }
   ],
   "source": [
    "show_slice_of_sample(sample_index = 0, slice = 10)\n",
    "show_slice_of_sample(sample_index = 0, slice = 11)\n",
    "\n",
    "show_slice_of_sample(sample_index = 1, slice = 20)\n",
    "show_slice_of_sample(sample_index = 1, slice = 21)\n",
    "\n",
    "show_slice_of_sample(sample_index = 2, slice = 30)\n",
    "show_slice_of_sample(sample_index = 2, slice = 31)"
   ]
  },
  {
   "cell_type": "markdown",
   "metadata": {},
   "source": [
    "Load volume into 3D Slicer to validate that your visualization is correct and get a feel for the shape of structures.Try to get a visualization like the one below (hint: while Slicer documentation is not particularly great, there are plenty of YouTube videos available! Just look it up on YouTube if you are not sure how to do something)\n",
    "\n",
    "![3D slicer](img/Slicer.png)"
   ]
  },
  {
   "cell_type": "code",
   "execution_count": 6,
   "metadata": {},
   "outputs": [],
   "source": [
    "# Stand out suggestion: use one of the simple Volume Rendering algorithms that we've\n",
    "# implemented in one of our earlier lessons to visualize some of these volumes"
   ]
  },
  {
   "cell_type": "markdown",
   "metadata": {},
   "source": [
    "## Looking at single image data\n",
    "In this section we will look closer at the NIFTI representation of our volumes. In order to measure the physical volume of hippocampi, we need to understand the relationship between the sizes of our voxels and the physical world."
   ]
  },
  {
   "cell_type": "code",
   "execution_count": 7,
   "metadata": {
    "scrolled": true
   },
   "outputs": [
    {
     "name": "stdout",
     "output_type": "stream",
     "text": [
      "All header_classes = {<class 'nibabel.nifti1.Nifti1Header'>}\n"
     ]
    }
   ],
   "source": [
    "# Nibabel supports many imaging formats, NIFTI being just one of them. I told you that our images \n",
    "# are in NIFTI, but you should confirm if this is indeed the format that we are dealing with\n",
    "# TASK: using .header_class attribute - what is the format of our images?\n",
    "\n",
    "header_classes = set()\n",
    "for sample in samples:\n",
    "    #print(f'header_class={samples[0].image.header_class}')\n",
    "    header_classes.add(sample.image.header_class)\n",
    "print(f'All header_classes = {header_classes}')"
   ]
  },
  {
   "cell_type": "code",
   "execution_count": 8,
   "metadata": {},
   "outputs": [
    {
     "name": "stdout",
     "output_type": "stream",
     "text": [
      "<class 'nibabel.nifti1.Nifti1Header'> object, endian='<'\n",
      "sizeof_hdr      : 348\n",
      "data_type       : b''\n",
      "db_name         : b''\n",
      "extents         : 0\n",
      "session_error   : 0\n",
      "regular         : b'r'\n",
      "dim_info        : 0\n",
      "dim             : [ 3 35 51 35  1  1  1  1]\n",
      "intent_p1       : 0.0\n",
      "intent_p2       : 0.0\n",
      "intent_p3       : 0.0\n",
      "intent_code     : none\n",
      "datatype        : uint8\n",
      "bitpix          : 8\n",
      "slice_start     : 0\n",
      "pixdim          : [1. 1. 1. 1. 1. 0. 0. 0.]\n",
      "vox_offset      : 0.0\n",
      "scl_slope       : nan\n",
      "scl_inter       : nan\n",
      "slice_end       : 0\n",
      "slice_code      : unknown\n",
      "xyzt_units      : 10\n",
      "cal_max         : 0.0\n",
      "cal_min         : 0.0\n",
      "slice_duration  : 0.0\n",
      "toffset         : 0.0\n",
      "glmax           : 0\n",
      "glmin           : 0\n",
      "descrip         : b'5.0.10'\n",
      "aux_file        : b'none'\n",
      "qform_code      : scanner\n",
      "sform_code      : scanner\n",
      "quatern_b       : 0.0\n",
      "quatern_c       : 0.0\n",
      "quatern_d       : 0.0\n",
      "qoffset_x       : 1.0\n",
      "qoffset_y       : 1.0\n",
      "qoffset_z       : 1.0\n",
      "srow_x          : [1. 0. 0. 1.]\n",
      "srow_y          : [0. 1. 0. 1.]\n",
      "srow_z          : [0. 0. 1. 1.]\n",
      "intent_name     : b''\n",
      "magic           : b'n+1'\n"
     ]
    }
   ],
   "source": [
    "print(samples[0].image.header)"
   ]
  },
  {
   "cell_type": "markdown",
   "metadata": {},
   "source": [
    "Further down we will be inspecting .header attribute that provides access to NIFTI metadata. You can use this resource as a reference for various fields: https://brainder.org/2012/09/23/the-nifti-file-format/"
   ]
  },
  {
   "cell_type": "code",
   "execution_count": 9,
   "metadata": {},
   "outputs": [
    {
     "name": "stdout",
     "output_type": "stream",
     "text": [
      "All possible values of header['bitpix']:\n",
      "{'8', '32'}\n"
     ]
    }
   ],
   "source": [
    "# TASK: How many bits per pixel are used?\n",
    "\n",
    "# https://nipy.org/nibabel/nibabel_images.html\n",
    "# https://nipy.org/nibabel/nifti_images.html#the-nifti-header\n",
    "\n",
    "def get_set_of_all_values(samples, attr):\n",
    "    all_values = set()\n",
    "    for sample in samples:\n",
    "        header = sample.image.header\n",
    "        if attr in header:\n",
    "            value = str(header[attr])\n",
    "            all_values.add(value)\n",
    "    return all_values\n",
    "\n",
    "print('All possible values of header[\\'bitpix\\']:')\n",
    "print(get_set_of_all_values(samples, 'bitpix'))\n",
    "\n",
    "#print(samples[0].image.header['bitpix'])\n",
    "\n",
    "\n",
    "def print_header(header):\n",
    "    print(header)\n",
    "    print()\n",
    "    print(header.get_data_shape())\n",
    "    print(header.get_data_dtype())\n",
    "    print(header.get_zooms())\n",
    "    print(header['bitpix'])\n",
    "\n",
    "#print_header(samples[0].image.header)\n",
    "#print(type(samples[0].image.header))\n",
    "#print(dir(samples[0].image.header))\n",
    "\n",
    "\n",
    "#print(samples[0].image.header.get_zooms())\n",
    "\n",
    "# all = set()\n",
    "# for sample in samples:\n",
    "#     #all.add(sample.image.header.bitpix)\n",
    "#     all.add(sample.image.header['bitpix'])\n",
    "# print(f'All bitpix = {bitpix}')"
   ]
  },
  {
   "cell_type": "code",
   "execution_count": 10,
   "metadata": {},
   "outputs": [
    {
     "name": "stdout",
     "output_type": "stream",
     "text": [
      "All possible values of header['xyzt_units']:\n",
      "{'10'}\n",
      "Milimeter (mm): 2 in decimal or 10 in binary.\n"
     ]
    }
   ],
   "source": [
    "# TASK: What are the units of measurement?\n",
    "\n",
    "print('All possible values of header[\\'xyzt_units\\']:')\n",
    "print(get_set_of_all_values(samples, 'xyzt_units'))\n",
    "print('Milimeter (mm): 2 in decimal or 10 in binary.')\n"
   ]
  },
  {
   "cell_type": "code",
   "execution_count": 11,
   "metadata": {},
   "outputs": [
    {
     "name": "stdout",
     "output_type": "stream",
     "text": [
      "All possible values of header['pixdim']:\n",
      "{'[1. 1. 1. 1. 1. 0. 0. 0.]'}\n",
      "All possible values of header['pixdim']:\n",
      "{(1.0, 1.0, 1.0)}\n",
      "1 mm in each dimension.\n"
     ]
    }
   ],
   "source": [
    "# TASK: Do we have a regular grid? What are grid spacings?\n",
    "\n",
    "print('All possible values of header[\\'pixdim\\']:')\n",
    "print(get_set_of_all_values(samples, 'pixdim'))\n",
    "\n",
    "def get_set_of_all_pixdim(samples):\n",
    "    all_values = set()\n",
    "    for sample in samples:\n",
    "        header = sample.image.header\n",
    "        all_values.add(header.get_zooms())\n",
    "    return all_values\n",
    "\n",
    "print('All possible values of header[\\'pixdim\\']:')\n",
    "print(get_set_of_all_pixdim(samples))\n",
    "print('1 mm in each dimension.')"
   ]
  },
  {
   "cell_type": "code",
   "execution_count": 12,
   "metadata": {},
   "outputs": [
    {
     "name": "stdout",
     "output_type": "stream",
     "text": [
      "All possible values of header['pixdim']:\n",
      "{(1.0, 1.0, 1.0)}\n",
      "1 mm in each dimension: Axial, sagittal, coronal.\n",
      "x,y,z correspond to LR (sagittal), PA (coronal), IS (axial) directions\n"
     ]
    }
   ],
   "source": [
    "# TASK: What dimensions represent axial, sagittal, and coronal slices? How do you know?\n",
    "print('All possible values of header[\\'pixdim\\']:')\n",
    "print(get_set_of_all_pixdim(samples))\n",
    "print('1 mm in each dimension: Axial, sagittal, coronal.')\n",
    "print('x,y,z correspond to LR (sagittal), PA (coronal), IS (axial) directions')"
   ]
  },
  {
   "cell_type": "code",
   "execution_count": 13,
   "metadata": {},
   "outputs": [],
   "source": [
    "# By now you should have enough information to decide what are dimensions of a single voxel\n",
    "# TASK: Compute the volume (in mm³) of a hippocampus using one of the labels you've loaded. \n",
    "# You should get a number between ~2200 and ~4500\n",
    "\n",
    "def binary(x):\n",
    "    return 0. if x == 0. else 1.\n",
    "\n",
    "vect_binary = np.vectorize(binary)\n",
    "\n",
    "def compute_volume(sample):\n",
    "    zooms = sample.label.header.get_zooms()\n",
    "    voxel_volume = zooms[0] * zooms[1] * zooms[2]\n",
    "    data = sample.label.get_fdata()\n",
    "    data = vect_binary(data)\n",
    "    return np.sum(data) * voxel_volume\n",
    "    "
   ]
  },
  {
   "cell_type": "code",
   "execution_count": 14,
   "metadata": {},
   "outputs": [],
   "source": [
    "volumes = []\n",
    "for sample in samples:\n",
    "    volumes.append(compute_volume(sample))"
   ]
  },
  {
   "cell_type": "code",
   "execution_count": 15,
   "metadata": {},
   "outputs": [
    {
     "name": "stdout",
     "output_type": "stream",
     "text": [
      "Minimum volume: 2382.0\n",
      "Mean volume: 3295.2076923076925\n",
      "Maximum volume: 4401.0\n"
     ]
    }
   ],
   "source": [
    "print(f'Minimum volume: {np.min(volumes)}')\n",
    "print(f'Mean volume: {np.mean(volumes)}')\n",
    "print(f'Maximum volume: {np.max(volumes)}')"
   ]
  },
  {
   "cell_type": "markdown",
   "metadata": {},
   "source": [
    "## Plotting some charts"
   ]
  },
  {
   "cell_type": "code",
   "execution_count": 16,
   "metadata": {},
   "outputs": [
    {
     "data": {
      "image/png": "[encoded data removed]",
      "text/plain": [
       "<Figure size 720x720 with 1 Axes>"
      ]
     },
     "metadata": {
      "needs_background": "light"
     },
     "output_type": "display_data"
    }
   ],
   "source": [
    "# TASK: Plot a histogram of all volumes that we have in our dataset and see how \n",
    "# our dataset measures against a slice of a normal population represented by the chart below.\n",
    "\n",
    "num_bins = 11\n",
    "n, bins, patches = plt.hist(volumes, num_bins, facecolor='blue', alpha=0.5)\n",
    "plt.show()"
   ]
  },
  {
   "cell_type": "markdown",
   "metadata": {},
   "source": [
    "<img src=\"img/nomogram_fem_right.svg\" width=400 align=left>"
   ]
  },
  {
   "cell_type": "markdown",
   "metadata": {},
   "source": [
    "Do you see any outliers? Why do you think it's so (might be not immediately obvious, but it's always a good idea to inspect) outliers closer. If you haven't found the images that do not belong, the histogram may help you."
   ]
  },
  {
   "cell_type": "markdown",
   "metadata": {},
   "source": [
    "In the real world we would have precise information about the ages and conditions of our patients, and understanding how our dataset measures against population norm would be the integral part of clinical validation that we talked about in last lesson. Unfortunately, we do not have this information about this dataset, so we can only guess why it measures the way it is. If you would like to explore further, you can use the [calculator from HippoFit project](http://www.smanohar.com/biobank/calculator.html) to see how our dataset compares against different population slices"
   ]
  },
  {
   "cell_type": "markdown",
   "metadata": {},
   "source": [
    "Did you notice anything odd about the label files? We hope you did! The mask seems to have two classes, labeled with values `1` and `2` respectively. If you visualized sagittal or axial views, you might have gotten a good guess of what those are. Class 1 is the anterior segment of the hippocampus and class 2 is the posterior one. \n",
    "\n",
    "For the purpose of volume calculation we do not care about the distinction, however we will still train our network to differentiate between these two classes and the background"
   ]
  },
  {
   "cell_type": "code",
   "execution_count": 17,
   "metadata": {},
   "outputs": [
    {
     "name": "stdout",
     "output_type": "stream",
     "text": [
      "README.md\n",
      "README.md  TrainingSet\n",
      "images\tlabels\n"
     ]
    }
   ],
   "source": [
    "# TASK: Copy the clean dataset to the output folder inside section1/out. You will use it in the next Section\n",
    "\n",
    "import os\n",
    "from shutil import copyfile\n",
    "\n",
    "!rm -r out/TrainingSet\n",
    "!ls out\n",
    "\n",
    "# !ls /data/TrainingSet/images\n",
    "# !ls /data/TrainingSet/labels\n",
    "dataset_dir0 = '/data/TrainingSet'\n",
    "images_dir0 = f'{dataset_dir0}/images'\n",
    "labels_dir0 = f'{dataset_dir0}/labels'\n",
    "\n",
    "def cond_makedir(dir):\n",
    "    if not os.path.exists(dir):\n",
    "        os.mkdir(dir)\n",
    "\n",
    "dataset_dir = 'out/TrainingSet'\n",
    "cond_makedir(dataset_dir)\n",
    "images_dir = f'{dataset_dir}/images'\n",
    "labels_dir = f'{dataset_dir}/labels'\n",
    "cond_makedir(images_dir)\n",
    "cond_makedir(labels_dir)\n",
    "\n",
    "!ls out\n",
    "!ls out/TrainingSet\n",
    "\n",
    "for sample in samples:\n",
    "    image = sample.image_file\n",
    "    image = image[image.rfind('/') + 1:]\n",
    "    src = f'{images_dir0}/{image}'\n",
    "    dst = f'{images_dir}/{image}'\n",
    "    copyfile(src, dst)\n",
    "    src = f'{labels_dir0}/{image}'\n",
    "    dst = f'{labels_dir}/{image}'\n",
    "    copyfile(src, dst)\n"
   ]
  },
  {
   "cell_type": "code",
   "execution_count": 18,
   "metadata": {},
   "outputs": [
    {
     "name": "stdout",
     "output_type": "stream",
     "text": [
      "hippocampus_001.nii.gz\thippocampus_146.nii.gz\thippocampus_276.nii.gz\r\n",
      "hippocampus_003.nii.gz\thippocampus_148.nii.gz\thippocampus_277.nii.gz\r\n",
      "hippocampus_004.nii.gz\thippocampus_149.nii.gz\thippocampus_279.nii.gz\r\n",
      "hippocampus_006.nii.gz\thippocampus_150.nii.gz\thippocampus_280.nii.gz\r\n",
      "hippocampus_007.nii.gz\thippocampus_152.nii.gz\thippocampus_282.nii.gz\r\n",
      "hippocampus_008.nii.gz\thippocampus_154.nii.gz\thippocampus_286.nii.gz\r\n",
      "hippocampus_011.nii.gz\thippocampus_155.nii.gz\thippocampus_287.nii.gz\r\n",
      "hippocampus_014.nii.gz\thippocampus_156.nii.gz\thippocampus_288.nii.gz\r\n",
      "hippocampus_015.nii.gz\thippocampus_157.nii.gz\thippocampus_289.nii.gz\r\n",
      "hippocampus_017.nii.gz\thippocampus_158.nii.gz\thippocampus_290.nii.gz\r\n",
      "hippocampus_019.nii.gz\thippocampus_160.nii.gz\thippocampus_292.nii.gz\r\n",
      "hippocampus_020.nii.gz\thippocampus_161.nii.gz\thippocampus_294.nii.gz\r\n",
      "hippocampus_023.nii.gz\thippocampus_162.nii.gz\thippocampus_295.nii.gz\r\n",
      "hippocampus_024.nii.gz\thippocampus_163.nii.gz\thippocampus_296.nii.gz\r\n",
      "hippocampus_025.nii.gz\thippocampus_164.nii.gz\thippocampus_297.nii.gz\r\n",
      "hippocampus_026.nii.gz\thippocampus_165.nii.gz\thippocampus_298.nii.gz\r\n",
      "hippocampus_033.nii.gz\thippocampus_166.nii.gz\thippocampus_299.nii.gz\r\n",
      "hippocampus_034.nii.gz\thippocampus_169.nii.gz\thippocampus_300.nii.gz\r\n",
      "hippocampus_035.nii.gz\thippocampus_170.nii.gz\thippocampus_301.nii.gz\r\n",
      "hippocampus_036.nii.gz\thippocampus_171.nii.gz\thippocampus_302.nii.gz\r\n",
      "hippocampus_037.nii.gz\thippocampus_172.nii.gz\thippocampus_303.nii.gz\r\n",
      "hippocampus_038.nii.gz\thippocampus_173.nii.gz\thippocampus_304.nii.gz\r\n",
      "hippocampus_039.nii.gz\thippocampus_174.nii.gz\thippocampus_305.nii.gz\r\n",
      "hippocampus_040.nii.gz\thippocampus_175.nii.gz\thippocampus_308.nii.gz\r\n",
      "hippocampus_041.nii.gz\thippocampus_176.nii.gz\thippocampus_309.nii.gz\r\n",
      "hippocampus_042.nii.gz\thippocampus_177.nii.gz\thippocampus_310.nii.gz\r\n",
      "hippocampus_044.nii.gz\thippocampus_178.nii.gz\thippocampus_311.nii.gz\r\n",
      "hippocampus_045.nii.gz\thippocampus_180.nii.gz\thippocampus_314.nii.gz\r\n",
      "hippocampus_046.nii.gz\thippocampus_181.nii.gz\thippocampus_316.nii.gz\r\n",
      "hippocampus_048.nii.gz\thippocampus_184.nii.gz\thippocampus_317.nii.gz\r\n",
      "hippocampus_049.nii.gz\thippocampus_185.nii.gz\thippocampus_318.nii.gz\r\n",
      "hippocampus_050.nii.gz\thippocampus_188.nii.gz\thippocampus_319.nii.gz\r\n",
      "hippocampus_051.nii.gz\thippocampus_189.nii.gz\thippocampus_320.nii.gz\r\n",
      "hippocampus_052.nii.gz\thippocampus_190.nii.gz\thippocampus_321.nii.gz\r\n",
      "hippocampus_053.nii.gz\thippocampus_193.nii.gz\thippocampus_322.nii.gz\r\n",
      "hippocampus_056.nii.gz\thippocampus_194.nii.gz\thippocampus_325.nii.gz\r\n",
      "hippocampus_057.nii.gz\thippocampus_195.nii.gz\thippocampus_326.nii.gz\r\n",
      "hippocampus_058.nii.gz\thippocampus_197.nii.gz\thippocampus_327.nii.gz\r\n",
      "hippocampus_060.nii.gz\thippocampus_199.nii.gz\thippocampus_328.nii.gz\r\n",
      "hippocampus_064.nii.gz\thippocampus_203.nii.gz\thippocampus_329.nii.gz\r\n",
      "hippocampus_065.nii.gz\thippocampus_204.nii.gz\thippocampus_330.nii.gz\r\n",
      "hippocampus_067.nii.gz\thippocampus_205.nii.gz\thippocampus_331.nii.gz\r\n",
      "hippocampus_068.nii.gz\thippocampus_207.nii.gz\thippocampus_332.nii.gz\r\n",
      "hippocampus_070.nii.gz\thippocampus_210.nii.gz\thippocampus_333.nii.gz\r\n",
      "hippocampus_074.nii.gz\thippocampus_212.nii.gz\thippocampus_334.nii.gz\r\n",
      "hippocampus_075.nii.gz\thippocampus_215.nii.gz\thippocampus_335.nii.gz\r\n",
      "hippocampus_077.nii.gz\thippocampus_216.nii.gz\thippocampus_336.nii.gz\r\n",
      "hippocampus_083.nii.gz\thippocampus_217.nii.gz\thippocampus_337.nii.gz\r\n",
      "hippocampus_084.nii.gz\thippocampus_219.nii.gz\thippocampus_338.nii.gz\r\n",
      "hippocampus_087.nii.gz\thippocampus_220.nii.gz\thippocampus_340.nii.gz\r\n",
      "hippocampus_088.nii.gz\thippocampus_221.nii.gz\thippocampus_341.nii.gz\r\n",
      "hippocampus_089.nii.gz\thippocampus_222.nii.gz\thippocampus_343.nii.gz\r\n",
      "hippocampus_090.nii.gz\thippocampus_223.nii.gz\thippocampus_345.nii.gz\r\n",
      "hippocampus_091.nii.gz\thippocampus_224.nii.gz\thippocampus_349.nii.gz\r\n",
      "hippocampus_092.nii.gz\thippocampus_225.nii.gz\thippocampus_350.nii.gz\r\n",
      "hippocampus_093.nii.gz\thippocampus_226.nii.gz\thippocampus_351.nii.gz\r\n",
      "hippocampus_094.nii.gz\thippocampus_227.nii.gz\thippocampus_352.nii.gz\r\n",
      "hippocampus_095.nii.gz\thippocampus_228.nii.gz\thippocampus_353.nii.gz\r\n",
      "hippocampus_096.nii.gz\thippocampus_229.nii.gz\thippocampus_354.nii.gz\r\n",
      "hippocampus_097.nii.gz\thippocampus_230.nii.gz\thippocampus_355.nii.gz\r\n",
      "hippocampus_098.nii.gz\thippocampus_231.nii.gz\thippocampus_356.nii.gz\r\n",
      "hippocampus_099.nii.gz\thippocampus_232.nii.gz\thippocampus_358.nii.gz\r\n",
      "hippocampus_101.nii.gz\thippocampus_233.nii.gz\thippocampus_359.nii.gz\r\n",
      "hippocampus_102.nii.gz\thippocampus_234.nii.gz\thippocampus_360.nii.gz\r\n",
      "hippocampus_104.nii.gz\thippocampus_235.nii.gz\thippocampus_361.nii.gz\r\n",
      "hippocampus_105.nii.gz\thippocampus_236.nii.gz\thippocampus_363.nii.gz\r\n",
      "hippocampus_106.nii.gz\thippocampus_238.nii.gz\thippocampus_366.nii.gz\r\n",
      "hippocampus_107.nii.gz\thippocampus_242.nii.gz\thippocampus_367.nii.gz\r\n",
      "hippocampus_108.nii.gz\thippocampus_243.nii.gz\thippocampus_368.nii.gz\r\n",
      "hippocampus_109.nii.gz\thippocampus_244.nii.gz\thippocampus_370.nii.gz\r\n",
      "hippocampus_114.nii.gz\thippocampus_245.nii.gz\thippocampus_372.nii.gz\r\n",
      "hippocampus_123.nii.gz\thippocampus_248.nii.gz\thippocampus_373.nii.gz\r\n",
      "hippocampus_124.nii.gz\thippocampus_249.nii.gz\thippocampus_374.nii.gz\r\n",
      "hippocampus_125.nii.gz\thippocampus_250.nii.gz\thippocampus_375.nii.gz\r\n",
      "hippocampus_126.nii.gz\thippocampus_251.nii.gz\thippocampus_376.nii.gz\r\n",
      "hippocampus_127.nii.gz\thippocampus_252.nii.gz\thippocampus_378.nii.gz\r\n",
      "hippocampus_130.nii.gz\thippocampus_253.nii.gz\thippocampus_380.nii.gz\r\n",
      "hippocampus_132.nii.gz\thippocampus_257.nii.gz\thippocampus_381.nii.gz\r\n",
      "hippocampus_133.nii.gz\thippocampus_259.nii.gz\thippocampus_383.nii.gz\r\n",
      "hippocampus_135.nii.gz\thippocampus_260.nii.gz\thippocampus_385.nii.gz\r\n",
      "hippocampus_136.nii.gz\thippocampus_261.nii.gz\thippocampus_386.nii.gz\r\n",
      "hippocampus_138.nii.gz\thippocampus_263.nii.gz\thippocampus_387.nii.gz\r\n",
      "hippocampus_141.nii.gz\thippocampus_264.nii.gz\thippocampus_389.nii.gz\r\n",
      "hippocampus_142.nii.gz\thippocampus_265.nii.gz\thippocampus_390.nii.gz\r\n",
      "hippocampus_143.nii.gz\thippocampus_268.nii.gz\thippocampus_393.nii.gz\r\n",
      "hippocampus_144.nii.gz\thippocampus_269.nii.gz\thippocampus_394.nii.gz\r\n",
      "hippocampus_145.nii.gz\thippocampus_274.nii.gz\r\n"
     ]
    }
   ],
   "source": [
    "!ls out/TrainingSet/images"
   ]
  },
  {
   "cell_type": "code",
   "execution_count": 19,
   "metadata": {},
   "outputs": [
    {
     "name": "stdout",
     "output_type": "stream",
     "text": [
      "hippocampus_001.nii.gz\thippocampus_146.nii.gz\thippocampus_276.nii.gz\r\n",
      "hippocampus_003.nii.gz\thippocampus_148.nii.gz\thippocampus_277.nii.gz\r\n",
      "hippocampus_004.nii.gz\thippocampus_149.nii.gz\thippocampus_279.nii.gz\r\n",
      "hippocampus_006.nii.gz\thippocampus_150.nii.gz\thippocampus_280.nii.gz\r\n",
      "hippocampus_007.nii.gz\thippocampus_152.nii.gz\thippocampus_282.nii.gz\r\n",
      "hippocampus_008.nii.gz\thippocampus_154.nii.gz\thippocampus_286.nii.gz\r\n",
      "hippocampus_011.nii.gz\thippocampus_155.nii.gz\thippocampus_287.nii.gz\r\n",
      "hippocampus_014.nii.gz\thippocampus_156.nii.gz\thippocampus_288.nii.gz\r\n",
      "hippocampus_015.nii.gz\thippocampus_157.nii.gz\thippocampus_289.nii.gz\r\n",
      "hippocampus_017.nii.gz\thippocampus_158.nii.gz\thippocampus_290.nii.gz\r\n",
      "hippocampus_019.nii.gz\thippocampus_160.nii.gz\thippocampus_292.nii.gz\r\n",
      "hippocampus_020.nii.gz\thippocampus_161.nii.gz\thippocampus_294.nii.gz\r\n",
      "hippocampus_023.nii.gz\thippocampus_162.nii.gz\thippocampus_295.nii.gz\r\n",
      "hippocampus_024.nii.gz\thippocampus_163.nii.gz\thippocampus_296.nii.gz\r\n",
      "hippocampus_025.nii.gz\thippocampus_164.nii.gz\thippocampus_297.nii.gz\r\n",
      "hippocampus_026.nii.gz\thippocampus_165.nii.gz\thippocampus_298.nii.gz\r\n",
      "hippocampus_033.nii.gz\thippocampus_166.nii.gz\thippocampus_299.nii.gz\r\n",
      "hippocampus_034.nii.gz\thippocampus_169.nii.gz\thippocampus_300.nii.gz\r\n",
      "hippocampus_035.nii.gz\thippocampus_170.nii.gz\thippocampus_301.nii.gz\r\n",
      "hippocampus_036.nii.gz\thippocampus_171.nii.gz\thippocampus_302.nii.gz\r\n",
      "hippocampus_037.nii.gz\thippocampus_172.nii.gz\thippocampus_303.nii.gz\r\n",
      "hippocampus_038.nii.gz\thippocampus_173.nii.gz\thippocampus_304.nii.gz\r\n",
      "hippocampus_039.nii.gz\thippocampus_174.nii.gz\thippocampus_305.nii.gz\r\n",
      "hippocampus_040.nii.gz\thippocampus_175.nii.gz\thippocampus_308.nii.gz\r\n",
      "hippocampus_041.nii.gz\thippocampus_176.nii.gz\thippocampus_309.nii.gz\r\n",
      "hippocampus_042.nii.gz\thippocampus_177.nii.gz\thippocampus_310.nii.gz\r\n",
      "hippocampus_044.nii.gz\thippocampus_178.nii.gz\thippocampus_311.nii.gz\r\n",
      "hippocampus_045.nii.gz\thippocampus_180.nii.gz\thippocampus_314.nii.gz\r\n",
      "hippocampus_046.nii.gz\thippocampus_181.nii.gz\thippocampus_316.nii.gz\r\n",
      "hippocampus_048.nii.gz\thippocampus_184.nii.gz\thippocampus_317.nii.gz\r\n",
      "hippocampus_049.nii.gz\thippocampus_185.nii.gz\thippocampus_318.nii.gz\r\n",
      "hippocampus_050.nii.gz\thippocampus_188.nii.gz\thippocampus_319.nii.gz\r\n",
      "hippocampus_051.nii.gz\thippocampus_189.nii.gz\thippocampus_320.nii.gz\r\n",
      "hippocampus_052.nii.gz\thippocampus_190.nii.gz\thippocampus_321.nii.gz\r\n",
      "hippocampus_053.nii.gz\thippocampus_193.nii.gz\thippocampus_322.nii.gz\r\n",
      "hippocampus_056.nii.gz\thippocampus_194.nii.gz\thippocampus_325.nii.gz\r\n",
      "hippocampus_057.nii.gz\thippocampus_195.nii.gz\thippocampus_326.nii.gz\r\n",
      "hippocampus_058.nii.gz\thippocampus_197.nii.gz\thippocampus_327.nii.gz\r\n",
      "hippocampus_060.nii.gz\thippocampus_199.nii.gz\thippocampus_328.nii.gz\r\n",
      "hippocampus_064.nii.gz\thippocampus_203.nii.gz\thippocampus_329.nii.gz\r\n",
      "hippocampus_065.nii.gz\thippocampus_204.nii.gz\thippocampus_330.nii.gz\r\n",
      "hippocampus_067.nii.gz\thippocampus_205.nii.gz\thippocampus_331.nii.gz\r\n",
      "hippocampus_068.nii.gz\thippocampus_207.nii.gz\thippocampus_332.nii.gz\r\n",
      "hippocampus_070.nii.gz\thippocampus_210.nii.gz\thippocampus_333.nii.gz\r\n",
      "hippocampus_074.nii.gz\thippocampus_212.nii.gz\thippocampus_334.nii.gz\r\n",
      "hippocampus_075.nii.gz\thippocampus_215.nii.gz\thippocampus_335.nii.gz\r\n",
      "hippocampus_077.nii.gz\thippocampus_216.nii.gz\thippocampus_336.nii.gz\r\n",
      "hippocampus_083.nii.gz\thippocampus_217.nii.gz\thippocampus_337.nii.gz\r\n",
      "hippocampus_084.nii.gz\thippocampus_219.nii.gz\thippocampus_338.nii.gz\r\n",
      "hippocampus_087.nii.gz\thippocampus_220.nii.gz\thippocampus_340.nii.gz\r\n",
      "hippocampus_088.nii.gz\thippocampus_221.nii.gz\thippocampus_341.nii.gz\r\n",
      "hippocampus_089.nii.gz\thippocampus_222.nii.gz\thippocampus_343.nii.gz\r\n",
      "hippocampus_090.nii.gz\thippocampus_223.nii.gz\thippocampus_345.nii.gz\r\n",
      "hippocampus_091.nii.gz\thippocampus_224.nii.gz\thippocampus_349.nii.gz\r\n",
      "hippocampus_092.nii.gz\thippocampus_225.nii.gz\thippocampus_350.nii.gz\r\n",
      "hippocampus_093.nii.gz\thippocampus_226.nii.gz\thippocampus_351.nii.gz\r\n",
      "hippocampus_094.nii.gz\thippocampus_227.nii.gz\thippocampus_352.nii.gz\r\n",
      "hippocampus_095.nii.gz\thippocampus_228.nii.gz\thippocampus_353.nii.gz\r\n",
      "hippocampus_096.nii.gz\thippocampus_229.nii.gz\thippocampus_354.nii.gz\r\n",
      "hippocampus_097.nii.gz\thippocampus_230.nii.gz\thippocampus_355.nii.gz\r\n",
      "hippocampus_098.nii.gz\thippocampus_231.nii.gz\thippocampus_356.nii.gz\r\n",
      "hippocampus_099.nii.gz\thippocampus_232.nii.gz\thippocampus_358.nii.gz\r\n",
      "hippocampus_101.nii.gz\thippocampus_233.nii.gz\thippocampus_359.nii.gz\r\n",
      "hippocampus_102.nii.gz\thippocampus_234.nii.gz\thippocampus_360.nii.gz\r\n",
      "hippocampus_104.nii.gz\thippocampus_235.nii.gz\thippocampus_361.nii.gz\r\n",
      "hippocampus_105.nii.gz\thippocampus_236.nii.gz\thippocampus_363.nii.gz\r\n",
      "hippocampus_106.nii.gz\thippocampus_238.nii.gz\thippocampus_366.nii.gz\r\n",
      "hippocampus_107.nii.gz\thippocampus_242.nii.gz\thippocampus_367.nii.gz\r\n",
      "hippocampus_108.nii.gz\thippocampus_243.nii.gz\thippocampus_368.nii.gz\r\n",
      "hippocampus_109.nii.gz\thippocampus_244.nii.gz\thippocampus_370.nii.gz\r\n",
      "hippocampus_114.nii.gz\thippocampus_245.nii.gz\thippocampus_372.nii.gz\r\n",
      "hippocampus_123.nii.gz\thippocampus_248.nii.gz\thippocampus_373.nii.gz\r\n",
      "hippocampus_124.nii.gz\thippocampus_249.nii.gz\thippocampus_374.nii.gz\r\n",
      "hippocampus_125.nii.gz\thippocampus_250.nii.gz\thippocampus_375.nii.gz\r\n",
      "hippocampus_126.nii.gz\thippocampus_251.nii.gz\thippocampus_376.nii.gz\r\n",
      "hippocampus_127.nii.gz\thippocampus_252.nii.gz\thippocampus_378.nii.gz\r\n",
      "hippocampus_130.nii.gz\thippocampus_253.nii.gz\thippocampus_380.nii.gz\r\n",
      "hippocampus_132.nii.gz\thippocampus_257.nii.gz\thippocampus_381.nii.gz\r\n",
      "hippocampus_133.nii.gz\thippocampus_259.nii.gz\thippocampus_383.nii.gz\r\n",
      "hippocampus_135.nii.gz\thippocampus_260.nii.gz\thippocampus_385.nii.gz\r\n",
      "hippocampus_136.nii.gz\thippocampus_261.nii.gz\thippocampus_386.nii.gz\r\n",
      "hippocampus_138.nii.gz\thippocampus_263.nii.gz\thippocampus_387.nii.gz\r\n",
      "hippocampus_141.nii.gz\thippocampus_264.nii.gz\thippocampus_389.nii.gz\r\n",
      "hippocampus_142.nii.gz\thippocampus_265.nii.gz\thippocampus_390.nii.gz\r\n",
      "hippocampus_143.nii.gz\thippocampus_268.nii.gz\thippocampus_393.nii.gz\r\n",
      "hippocampus_144.nii.gz\thippocampus_269.nii.gz\thippocampus_394.nii.gz\r\n",
      "hippocampus_145.nii.gz\thippocampus_274.nii.gz\r\n"
     ]
    }
   ],
   "source": [
    "!ls out/TrainingSet/labels"
   ]
  },
  {
   "cell_type": "markdown",
   "metadata": {},
   "source": [
    "## Final remarks\n",
    "\n",
    "Congratulations! You have finished Section 1. \n",
    "\n",
    "In this section you have inspected a dataset of MRI scans and related segmentations, represented as NIFTI files. We have visualized some slices, and understood the layout of the data. We have inspected file headers to understand what how the image dimensions relate to the physical world and we have understood how to measure our volume. We have then inspected dataset for outliers, and have created a clean set that is ready for consumption by our ML algorithm. \n",
    "\n",
    "In the next section you will create training and testing pipelines for a UNet-based machine learning model, run and monitor the execution, and will produce test metrics. This will arm you with all you need to use the model in the clinical context and reason about its performance!"
   ]
  }
 ],
 "metadata": {
  "kernelspec": {
   "display_name": "Python 3",
   "language": "python",
   "name": "python3"
  },
  "language_info": {
   "codemirror_mode": {
    "name": "ipython",
    "version": 3
   },
   "file_extension": ".py",
   "mimetype": "text/x-python",
   "name": "python",
   "nbconvert_exporter": "python",
   "pygments_lexer": "ipython3",
   "version": "3.8.2"
  }
 },
 "nbformat": 4,
 "nbformat_minor": 2
}
